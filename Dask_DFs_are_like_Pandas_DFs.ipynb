{
  "nbformat": 4,
  "nbformat_minor": 0,
  "metadata": {
    "colab": {
      "name": "Dask DFs are like Pandas DFs.ipynb",
      "provenance": [],
      "authorship_tag": "ABX9TyMPrV/Lj+sWLT5jpjG9R2no",
      "include_colab_link": true
    },
    "kernelspec": {
      "name": "python3",
      "display_name": "Python 3"
    }
  },
  "cells": [
    {
      "cell_type": "markdown",
      "metadata": {
        "id": "view-in-github",
        "colab_type": "text"
      },
      "source": [
        "<a href=\"https://colab.research.google.com/github/AceroMike/Big-Data/blob/main/Dask_DFs_are_like_Pandas_DFs.ipynb\" target=\"_parent\"><img src=\"https://colab.research.google.com/assets/colab-badge.svg\" alt=\"Open In Colab\"/></a>"
      ]
    },
    {
      "cell_type": "markdown",
      "metadata": {
        "id": "BUQzxgaDaIF0"
      },
      "source": [
        "In this notebook I will be going over a few examples simply to show that if you know pandas, you know some Dask. As mentioned in previous notebooks, the advatange that Dask provides is that it allows us to parallelize the operations. Therefore, we can have multiple parts being computed at the same time. Much of the syntax in Dask is similar to Pandas as we will soon see. We will be working with the [Credit Card Fraud Detection](https://www.kaggle.com/mlg-ulb/creditcardfraud) dataset from Kaggle which contains financial transactions and identifies whether each transaction is fraud or not. Data contains principal components of original data. "
      ]
    },
    {
      "cell_type": "code",
      "metadata": {
        "id": "x_JQFu56bL9t"
      },
      "source": [
        "# Installations\r\n",
        "\r\n",
        "!pip install dask[complete] --quiet\r\n",
        "!pip install dask distributed --upgrade --quiet\r\n",
        "!pip install aiohttp --quiet\r\n",
        "!pip install dask-ml --quiet"
      ],
      "execution_count": null,
      "outputs": []
    },
    {
      "cell_type": "code",
      "metadata": {
        "id": "LZQJlNUqaFRJ"
      },
      "source": [
        "# Import Dask Data Frames\r\n",
        "import dask.dataframe as dd"
      ],
      "execution_count": 2,
      "outputs": []
    },
    {
      "cell_type": "markdown",
      "metadata": {
        "id": "X1Z5V2N6cLUJ"
      },
      "source": [
        "Now we want to load in the data into a Dask Dataframe. There is one thing worth looking out for. When Dask loads in a data set, it will attempt to infer the data types via lazy eval which means that it randomly samples a subset and guesses their data types. This can be problematic. \r\n",
        "\r\n",
        "If you encounter this type of situation, you need to specify the column types manually. And in some situations, you may wish to set the `assume_missing` parameter of the `read_csv()` function to `True`; this informs Dask that all integer columns that aren't specified in `dtype` parameter are assumed to contain missing values, so they are converted to floats."
      ]
    },
    {
      "cell_type": "code",
      "metadata": {
        "id": "o0eKngJOcGlp"
      },
      "source": [
        "# Load in the data\r\n",
        "df = dd.read_csv('https://tf-assets-prod.s3.amazonaws.com/tf-curric/data-science/creditcard.csv', dtype={'Time': 'float64'})"
      ],
      "execution_count": 4,
      "outputs": []
    },
    {
      "cell_type": "markdown",
      "metadata": {
        "id": "UqTGJAW0btL7"
      },
      "source": [
        "We will be answering 3 simple questions: \r\n",
        "1. How many transactions do we have in total?\r\n",
        "2. How many transactions are fraud and how many are not?\r\n",
        "3. What is the maximum amount in fraud transactions?\r\n",
        "\r\n",
        "These questions are simple and if you are familiar with Pandas then you will be able to answer them with Dask."
      ]
    },
    {
      "cell_type": "code",
      "metadata": {
        "colab": {
          "base_uri": "https://localhost:8080/"
        },
        "id": "OGDvmyJ1bgJG",
        "outputId": "31a0f9d0-f276-45f2-a689-c9a8474d758d"
      },
      "source": [
        "# Question 1\r\n",
        "print(\"We have\", len(df), \"transactions\")"
      ],
      "execution_count": 8,
      "outputs": [
        {
          "output_type": "stream",
          "text": [
            "We have 284807 transactions\n"
          ],
          "name": "stdout"
        }
      ]
    },
    {
      "cell_type": "code",
      "metadata": {
        "colab": {
          "base_uri": "https://localhost:8080/"
        },
        "id": "0JIqiAgWdMC4",
        "outputId": "f735e6a8-0bc4-4b67-907d-a3140e4ddb8a"
      },
      "source": [
        "# Question 2\r\n",
        "df.groupby(\"Class\")[\"Time\"].count().compute()"
      ],
      "execution_count": 9,
      "outputs": [
        {
          "output_type": "execute_result",
          "data": {
            "text/plain": [
              "Class\n",
              "0    284315\n",
              "1       492\n",
              "Name: Time, dtype: int64"
            ]
          },
          "metadata": {
            "tags": []
          },
          "execution_count": 9
        }
      ]
    },
    {
      "cell_type": "markdown",
      "metadata": {
        "id": "AkQ839AGddol"
      },
      "source": [
        "Of our 284807 transactions, 492 are fraud. "
      ]
    },
    {
      "cell_type": "code",
      "metadata": {
        "colab": {
          "base_uri": "https://localhost:8080/"
        },
        "id": "kuDKB-G3dZhw",
        "outputId": "87f9a6ec-7521-458f-d924-efdab4a64260"
      },
      "source": [
        "# Question 3\r\n",
        "df[df.Class == 1]['Amount'].max().compute()"
      ],
      "execution_count": 11,
      "outputs": [
        {
          "output_type": "execute_result",
          "data": {
            "text/plain": [
              "2125.87"
            ]
          },
          "metadata": {
            "tags": []
          },
          "execution_count": 11
        }
      ]
    },
    {
      "cell_type": "code",
      "metadata": {
        "id": "G9UKqusRdtkj"
      },
      "source": [
        ""
      ],
      "execution_count": null,
      "outputs": []
    }
  ]
}